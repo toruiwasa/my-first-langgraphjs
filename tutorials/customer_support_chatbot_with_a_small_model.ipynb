{
 "cells": [
  {
   "cell_type": "code",
   "execution_count": 6,
   "id": "923c0cb5",
   "metadata": {},
   "outputs": [
    {
     "data": {
      "text/plain": [
       "[Module: null prototype] { default: {}, \u001b[32m\"module.exports\"\u001b[39m: {} }"
      ]
     },
     "execution_count": 6,
     "metadata": {},
     "output_type": "execute_result"
    }
   ],
   "source": [
    "import \"dotenv/config\";\n",
    "import { ChatBedrockConverse } from \"@langchain/aws\";\n",
    "\n",
    "const model = new ChatBedrockConverse({\n",
    "  model: \"us.amazon.nova-micro-v1:0\",\n",
    "  region: Deno.env.BEDROCK_AWS_REGION ?? \"us-east-1\",\n",
    "  credentials: {\n",
    "    secretAccessKey: Deno.env.BEDROCK_AWS_SECRET_ACCESS_KEY ?? \"\",\n",
    "    accessKeyId: Deno.env.BEDROCK_AWS_ACCESS_KEY_ID ?? \"\",\n",
    "  },\n",
    "  temperature: 0,\n",
    "});\n"
   ]
  },
  {
   "cell_type": "code",
   "execution_count": 7,
   "id": "aa677dde",
   "metadata": {},
   "outputs": [],
   "source": [
    "import { Annotation, MessagesAnnotation } from \"@langchain/langgraph\";\n",
    "\n",
    "const StateAnnotation = Annotation.Root({\n",
    "  ...MessagesAnnotation.spec,\n",
    "  nextRepresentative: Annotation<string>,\n",
    "  refundAuthorized: Annotation<boolean>,\n",
    "});\n"
   ]
  },
  {
   "cell_type": "code",
   "execution_count": 42,
   "id": "60a97087",
   "metadata": {},
   "outputs": [],
   "source": [
    "import { z } from \"zod\";\n",
    "\n",
    "const initialSupportOutputSchema = z.object({\n",
    "  nextRepresentative: z.enum([\"BILLING\", \"TECHNICAL\", \"RESPOND\"]),\n",
    "});\n",
    "\n",
    "const initialSupport = async (state: typeof StateAnnotation.State) => {\n",
    "  const SYSTEM_TEMPLATE = `You are frontline support staff for LangCorp, a company that sells computers. Be concise in your responses. You can chat with customers and help them with basic questions, but if the customer is having a billing or technical problem, do not try to answer the question directly or gather information. Instead, immediately transfer them to the billing or technical team by asking the user to hold for  a moment. Otherwise, just respond conversationally.`;\n",
    "  const supportResponse = await model.invoke([\n",
    "    { role: \"system\", content: SYSTEM_TEMPLATE },\n",
    "    ...state.messages,\n",
    "  ]);\n",
    "\n",
    "  const CATEGORIZATION_SYSTEM_TEMPLATE = `You are an export customer support routing system. Your job is to detect whether a customer support representative is routing a user to a billing team or a technical team, or if the are just responding conversationally.`;\n",
    "  const CATEGORIZATION_HUMAN_TEMPLATE = `The previous conversation is an interaction between a customer support reqresentative and a user. Extract whether the representative is routing the user to a billing or technical team, or whether the are just responding conversationally. Respond with a JSON object containing a single key called \"nextRepresentative\" with one of the following values:\n",
    "\n",
    "  If they want to route the user to the billing team, respond only with the word \"BILLING\".\n",
    "  If they want to route the user to the technical team, respond only with the word \"TECHNICAL\".\n",
    "  Otherwise, respond only with the word \"RESPOND\".`;\n",
    "\n",
    "  const categorizationResponse = await model\n",
    "    .withStructuredOutput(initialSupportOutputSchema)\n",
    "    .invoke([\n",
    "      { role: \"system\", content: CATEGORIZATION_SYSTEM_TEMPLATE },\n",
    "      ...state.messages,\n",
    "      { role: \"user\", content: CATEGORIZATION_HUMAN_TEMPLATE },\n",
    "    ]);\n",
    "\n",
    "  // Will append the response message to the current interaction state\n",
    "  return {\n",
    "    messages: [supportResponse],\n",
    "    nextRepresentative: categorizationResponse.nextRepresentative,\n",
    "  };\n",
    "};\n"
   ]
  },
  {
   "cell_type": "code",
   "execution_count": 43,
   "id": "066d74bd",
   "metadata": {},
   "outputs": [],
   "source": [
    "const billingSupportOutputSchema = z.object({\n",
    "  nextRepresentative: z.enum([\"REFUND\", \"RESPOND\"]),\n",
    "});\n",
    "\n",
    "const billingSupport = async (state: typeof StateAnnotation.State) => {\n",
    "  const SYSTEM_TEMPLATE = `You are an export billing support specialist for LangCorp, a company that sells computers. Help the user to the best of your ability, but be concise in your responses. You have the ability to authorize refunds, which you can do by transferring the user to another agent who will collect the required information. If you do, assume the other other agent has all necessary information about the customer and their order. You do not need to ask the user for more information.\n",
    "\n",
    "  Help the user to the best of your ability, but be concise in your response.`;\n",
    "\n",
    "  let trimmedHistory = state.messages;\n",
    "  // Make the user's question the most recent message in the history.\n",
    "  // This helps small models stay focused.\n",
    "  if (trimmedHistory.at(-1)._getType() === \"ai\") {\n",
    "    trimmedHistory = trimmedHistory.slice(0, -1);\n",
    "  }\n",
    "\n",
    "  const billingRepResponse = await model.invoke([\n",
    "    {\n",
    "      role: \"system\",\n",
    "      content: SYSTEM_TEMPLATE,\n",
    "    },\n",
    "    ...trimmedHistory,\n",
    "  ]);\n",
    "\n",
    "  const CATEGORIZATION_SYSTEM_TEMPLATE = `Your job is to detect whether a billing support representative wants to refund the user.`;\n",
    "  const CATEGORIZATION_HUMAN_TEMPLATE = `The following text is a response from a customer support representative. Extract whether they want to refund the user or not. Respond with a JSON object containing a single key called \"nextRepresentative\" with one of the following values:\n",
    "\n",
    "  If they want to refund the user, respond only with the word \"REFUND\".\n",
    "  Otherwise, respond only with the word \"RESPOND\".\n",
    "\n",
    "  Here is the text:\n",
    "\n",
    "  <text>\n",
    "  ${billingRepResponse.content}\n",
    "  </text>`;\n",
    "  const categorizationResponse = await model\n",
    "    .withStructuredOutput(billingSupportOutputSchema)\n",
    "    .invoke([\n",
    "      { role: \"system\", content: CATEGORIZATION_SYSTEM_TEMPLATE },\n",
    "      { role: \"user\", content: CATEGORIZATION_HUMAN_TEMPLATE },\n",
    "    ]);\n",
    "\n",
    "  return {\n",
    "    messages: billingRepResponse,\n",
    "    nextRepresentative: categorizationResponse.nextRepresentative,\n",
    "  };\n",
    "};\n"
   ]
  },
  {
   "cell_type": "code",
   "execution_count": 44,
   "id": "f693b1cf",
   "metadata": {},
   "outputs": [],
   "source": [
    "const technicalSupport = async (state: typeof StateAnnotation.State) => {\n",
    "  const SYSTEM_TEMPLATE = `You are an export at diagnosing technical computer issues. You work for a company called LangCorp that sells computers. Help the user to the best of your ability, but be concise in your response.`;\n",
    "\n",
    "  let trimmedHistory = state.messages;\n",
    "  // Make the user's question the most recent message in the history.\n",
    "  // This helps small models stay focused.\n",
    "  if (trimmedHistory.at(-1)._getType() === \"ai\") {\n",
    "    trimmedHistory = trimmedHistory.slice(0, -1);\n",
    "  }\n",
    "\n",
    "  const response = await model.invoke([\n",
    "    { role: \"system\", content: SYSTEM_TEMPLATE },\n",
    "    ...trimmedHistory,\n",
    "  ]);\n",
    "\n",
    "  return {\n",
    "    messages: response,\n",
    "  };\n",
    "};\n"
   ]
  },
  {
   "cell_type": "code",
   "execution_count": 45,
   "id": "317245fc",
   "metadata": {},
   "outputs": [],
   "source": [
    "import { NodeInterrupt} from \"@langchain/langgraph\";\n",
    "\n",
    "const handleRefund = async (state: StateAnnotation.State) => {\n",
    "  if (!state.refundAuthorized) {\n",
    "    console.log(\"--- HUMAN AUTHORIZATION REQUIRED FOR REFUND ---\");\n",
    "    throw new NodeInterrupt(\"Human authorization required.\")\n",
    "  }\n",
    "  return {\n",
    "    messages: {\n",
    "      role: \"assistant\",\n",
    "      content: \"Refund processed!\"\n",
    "    }\n",
    "  }\n",
    "}"
   ]
  },
  {
   "cell_type": "code",
   "execution_count": 46,
   "id": "a2484dc6",
   "metadata": {},
   "outputs": [],
   "source": [
    "import { StateGraph } from \"@langchain/langgraph\";\n",
    "\n",
    "let builder = new StateGraph(StateAnnotation)\n",
    "  .addNode(\"initialSupport\", initialSupport)\n",
    "  .addNode(\"billingSupport\", billingSupport)\n",
    "  .addNode(\"technicalSupport\", technicalSupport)\n",
    "  .addNode(\"handleRefund\", handleRefund)\n",
    "  .addEdge(\"__start__\", \"initialSupport\")"
   ]
  },
  {
   "cell_type": "code",
   "execution_count": 47,
   "id": "cecff8a6",
   "metadata": {},
   "outputs": [
    {
     "name": "stdout",
     "output_type": "stream",
     "text": [
      "Added edges!\n"
     ]
    }
   ],
   "source": [
    "builder = builder.addConditionalEdges(\n",
    "  \"initialSupport\",\n",
    "  async (state: StateAnnotation.State) => {\n",
    "    if (state.nextRepresentative.includes(\"BILLING\")) {\n",
    "      return \"billing\";\n",
    "    } else if (state.nextRepresentative.includes(\"TECHNICAL\")) {\n",
    "      return \"technical\";\n",
    "    } else {\n",
    "      return \"conversational\";\n",
    "    }\n",
    "  },\n",
    "  {\n",
    "    billing: \"billingSupport\",\n",
    "    technical: \"technicalSupport\",\n",
    "    conversational: \"__end__\",\n",
    "  }\n",
    ");\n",
    "\n",
    "console.log(\"Added edges!\");\n"
   ]
  },
  {
   "cell_type": "code",
   "execution_count": 48,
   "id": "4a1d2966",
   "metadata": {},
   "outputs": [
    {
     "name": "stdout",
     "output_type": "stream",
     "text": [
      "Added edges!\n"
     ]
    }
   ],
   "source": [
    "builder = builder.addEdge(\"technicalSupport\", \"__end__\").addConditionalEdges(\"billingSupport\", async (state) => {\n",
    "  if (state.nextRepresentative.includes(\"REFUND\")) {\n",
    "    return \"refund\"\n",
    "  } else {\n",
    "    return \"__end__\"\n",
    "  }\n",
    "}, {\n",
    "  refund: \"handleRefund\",\n",
    "  __end__: \"__end__\",\n",
    "})\n",
    ".addEdge(\"handleRefund\", \"__end__\");\n",
    "\n",
    "console.log(\"Added edges!\");"
   ]
  },
  {
   "cell_type": "code",
   "execution_count": 49,
   "id": "e00f06bf",
   "metadata": {},
   "outputs": [],
   "source": [
    "import { MemorySaver } from \"@langchain/langgraph\";\n",
    "\n",
    "const checkpointer = new MemorySaver();\n",
    "\n",
    "const graph = builder.compile({ checkpointer });\n"
   ]
  },
  {
   "cell_type": "code",
   "execution_count": 50,
   "id": "a41638a7",
   "metadata": {},
   "outputs": [
    {
     "data": {
      "image/jpeg": "[encoded data removed]"
     },
     "execution_count": 50,
     "metadata": {},
     "output_type": "execute_result"
    }
   ],
   "source": [
    "const representation = graph.getGraph();\n",
    "const image = await representation.drawMermaidPng();\n",
    "const arrayBuffer = await image.arrayBuffer();\n",
    "\n",
    "Deno.jupyter.image(new Uint8Array(arrayBuffer));"
   ]
  },
  {
   "cell_type": "code",
   "execution_count": 51,
   "id": "d5bcb28f",
   "metadata": {},
   "outputs": [
    {
     "name": "stdout",
     "output_type": "stream",
     "text": [
      "---STEP---\n",
      "{\n",
      "  initialSupport: {\n",
      "    messages: [\n",
      "      AIMessage {\n",
      "        \"id\": \"5b137d27-a68d-4bbb-889c-b462487ea8c2\",\n",
      "        \"content\": \"Please hold for a moment while I transfer you to our billing team for your refund request.\",\n",
      "        \"additional_kwargs\": {},\n",
      "        \"response_metadata\": {\n",
      "          \"$metadata\": {\n",
      "            \"httpStatusCode\": 200,\n",
      "            \"requestId\": \"5b137d27-a68d-4bbb-889c-b462487ea8c2\",\n",
      "            \"attempts\": 1,\n",
      "            \"totalRetryDelay\": 0\n",
      "          },\n",
      "          \"metrics\": {\n",
      "            \"latencyMs\": 476\n",
      "          },\n",
      "          \"stopReason\": \"end_turn\",\n",
      "          \"usage\": {\n",
      "            \"inputTokens\": 107,\n",
      "            \"outputTokens\": 18,\n",
      "            \"totalTokens\": 125\n",
      "          }\n",
      "        },\n",
      "        \"tool_calls\": [],\n",
      "        \"invalid_tool_calls\": [],\n",
      "        \"usage_metadata\": {\n",
      "          \"input_tokens\": 107,\n",
      "          \"output_tokens\": 18,\n",
      "          \"total_tokens\": 125\n",
      "        }\n",
      "      }\n",
      "    ],\n",
      "    nextRepresentative: \"BILLING\"\n",
      "  }\n",
      "}\n",
      "---END STEP---\n",
      "---STEP---\n",
      "{\n",
      "  billingSupport: {\n",
      "    messages: AIMessage {\n",
      "      \"id\": \"a5f4e590-7a42-4689-861d-810723741d00\",\n",
      "      \"content\": \"I'll transfer you to another agent for the refund process. Please hold on a moment.\",\n",
      "      \"additional_kwargs\": {},\n",
      "      \"response_metadata\": {\n",
      "        \"$metadata\": {\n",
      "          \"httpStatusCode\": 200,\n",
      "          \"requestId\": \"a5f4e590-7a42-4689-861d-810723741d00\",\n",
      "          \"attempts\": 1,\n",
      "          \"totalRetryDelay\": 0\n",
      "        },\n",
      "        \"metrics\": {\n",
      "          \"latencyMs\": 464\n",
      "        },\n",
      "        \"stopReason\": \"end_turn\",\n",
      "        \"usage\": {\n",
      "          \"inputTokens\": 131,\n",
      "          \"outputTokens\": 19,\n",
      "          \"totalTokens\": 150\n",
      "        }\n",
      "      },\n",
      "      \"tool_calls\": [],\n",
      "      \"invalid_tool_calls\": [],\n",
      "      \"usage_metadata\": {\n",
      "        \"input_tokens\": 131,\n",
      "        \"output_tokens\": 19,\n",
      "        \"total_tokens\": 150\n",
      "      }\n",
      "    },\n",
      "    nextRepresentative: \"REFUND\"\n",
      "  }\n",
      "}\n",
      "---END STEP---\n",
      "--- HUMAN AUTHORIZATION REQUIRED FOR REFUND ---\n",
      "---STEP---\n",
      "{\n",
      "  __interrupt__: [ { value: \"Human authorization required.\", when: \"during\" } ]\n",
      "}\n",
      "---END STEP---\n"
     ]
    }
   ],
   "source": [
    "const stream = await graph.stream({\n",
    "  messages: [\n",
    "    {\n",
    "      role: \"user\",\n",
    "      content: \"I've changed my mind and I want to refund for order #182818!\",\n",
    "    }\n",
    "  ]\n",
    "}, {\n",
    "  configurable: {\n",
    "    thread_id: \"refund_testing_id\"\n",
    "  }\n",
    "});\n",
    "\n",
    "for await (const value of stream) {\n",
    "  console.log(\"---STEP---\");\n",
    "  console.log(value);\n",
    "  console.log(\"---END STEP---\");\n",
    "}"
   ]
  },
  {
   "cell_type": "code",
   "execution_count": 52,
   "id": "ddb5e9f2",
   "metadata": {},
   "outputs": [
    {
     "name": "stdout",
     "output_type": "stream",
     "text": [
      "CURRENT TASKS [\n",
      "  {\n",
      "    \"id\": \"0a707ca5-f961-5fa8-83b0-12fe2420259e\",\n",
      "    \"name\": \"handleRefund\",\n",
      "    \"path\": [\n",
      "      \"__pregel_pull\",\n",
      "      \"handleRefund\"\n",
      "    ],\n",
      "    \"interrupts\": [\n",
      "      {\n",
      "        \"value\": \"Human authorization required.\",\n",
      "        \"when\": \"during\"\n",
      "      }\n",
      "    ]\n",
      "  }\n",
      "]\n"
     ]
    }
   ],
   "source": [
    "const currentState = await graph.getState({\n",
    "  configurable: { thread_id: \"refund_testing_id\" },\n",
    "});\n",
    "console.log(\"CURRENT TASKS\", JSON.stringify(currentState.tasks, null, 2));\n"
   ]
  },
  {
   "cell_type": "code",
   "execution_count": 53,
   "id": "cddee3c0",
   "metadata": {},
   "outputs": [
    {
     "name": "stdout",
     "output_type": "stream",
     "text": [
      "NEXT TASKS [ \"handleRefund\" ]\n"
     ]
    }
   ],
   "source": [
    "console.log(\"NEXT TASKS\", currentState.next);"
   ]
  },
  {
   "cell_type": "code",
   "execution_count": null,
   "id": "2c3a3d35",
   "metadata": {},
   "outputs": [
    {
     "name": "stdout",
     "output_type": "stream",
     "text": [
      "{\n",
      "  handleRefund: { messages: { role: \"assistant\", content: \"Refund processed!\" } }\n",
      "}\n"
     ]
    }
   ],
   "source": [
    "await graph.updateState(\n",
    "  { configurable: { thread_id: \"refund_testing_id\" } },\n",
    "  { refundAuthorized: true }\n",
    ");\n",
    "\n",
    "const resumedStream = await graph.stream(null, {\n",
    "  configurable: { thread_id: \"refund_testing_id\" },\n",
    "});\n",
    "\n",
    "for await (const value of resumedStream) {\n",
    "  console.log(value);\n",
    "}\n"
   ]
  },
  {
   "cell_type": "code",
   "execution_count": 55,
   "id": "96568bcd",
   "metadata": {},
   "outputs": [
    {
     "name": "stdout",
     "output_type": "stream",
     "text": [
      "{\n",
      "  initialSupport: {\n",
      "    messages: [\n",
      "      AIMessage {\n",
      "        \"id\": \"a01cd800-dc05-469c-b924-946ae11b0d2d\",\n",
      "        \"content\": \"Sorry to hear that. I'll transfer you to our technical team right away. Please hold for a moment.\",\n",
      "        \"additional_kwargs\": {},\n",
      "        \"response_metadata\": {\n",
      "          \"$metadata\": {\n",
      "            \"httpStatusCode\": 200,\n",
      "            \"requestId\": \"a01cd800-dc05-469c-b924-946ae11b0d2d\",\n",
      "            \"attempts\": 1,\n",
      "            \"totalRetryDelay\": 0\n",
      "          },\n",
      "          \"metrics\": {\n",
      "            \"latencyMs\": 486\n",
      "          },\n",
      "          \"stopReason\": \"end_turn\",\n",
      "          \"usage\": {\n",
      "            \"inputTokens\": 102,\n",
      "            \"outputTokens\": 23,\n",
      "            \"totalTokens\": 125\n",
      "          }\n",
      "        },\n",
      "        \"tool_calls\": [],\n",
      "        \"invalid_tool_calls\": [],\n",
      "        \"usage_metadata\": {\n",
      "          \"input_tokens\": 102,\n",
      "          \"output_tokens\": 23,\n",
      "          \"total_tokens\": 125\n",
      "        }\n",
      "      }\n",
      "    ],\n",
      "    nextRepresentative: \"RESPOND\"\n",
      "  }\n",
      "}\n"
     ]
    }
   ],
   "source": [
    "const technicalStream = await graph.stream(\n",
    "  {\n",
    "    messages: [\n",
    "      {\n",
    "        role: \"user\",\n",
    "        content:\n",
    "          \"My LangCorp computer isn't turning on because I dropped it in water.\",\n",
    "      },\n",
    "    ],\n",
    "  },\n",
    "  {\n",
    "    configurable: {\n",
    "      thread_id: \"technical_testing_id\",\n",
    "    },\n",
    "  }\n",
    ");\n",
    "\n",
    "for await (const value of technicalStream) {\n",
    "  console.log(value);\n",
    "}\n"
   ]
  },
  {
   "cell_type": "code",
   "execution_count": 56,
   "id": "dd91331f",
   "metadata": {},
   "outputs": [
    {
     "name": "stdout",
     "output_type": "stream",
     "text": [
      "{\n",
      "  initialSupport: {\n",
      "    messages: [\n",
      "      AIMessage {\n",
      "        \"id\": \"9cb0d7a3-1af3-4ee9-8fa1-a9a72c803839\",\n",
      "        \"content\": \"Hi Cobb! I'm doing well, thank you. If you have any questions about our products, I'm here to help. If it's about billing or technical issues, I'll connect you with the right team. Just hold for a moment, please.\",\n",
      "        \"additional_kwargs\": {},\n",
      "        \"response_metadata\": {\n",
      "          \"$metadata\": {\n",
      "            \"httpStatusCode\": 200,\n",
      "            \"requestId\": \"9cb0d7a3-1af3-4ee9-8fa1-a9a72c803839\",\n",
      "            \"attempts\": 1,\n",
      "            \"totalRetryDelay\": 0\n",
      "          },\n",
      "          \"metrics\": {\n",
      "            \"latencyMs\": 679\n",
      "          },\n",
      "          \"stopReason\": \"end_turn\",\n",
      "          \"usage\": {\n",
      "            \"inputTokens\": 95,\n",
      "            \"outputTokens\": 56,\n",
      "            \"totalTokens\": 151\n",
      "          }\n",
      "        },\n",
      "        \"tool_calls\": [],\n",
      "        \"invalid_tool_calls\": [],\n",
      "        \"usage_metadata\": {\n",
      "          \"input_tokens\": 95,\n",
      "          \"output_tokens\": 56,\n",
      "          \"total_tokens\": 151\n",
      "        }\n",
      "      }\n",
      "    ],\n",
      "    nextRepresentative: \"RESPOND\"\n",
      "  }\n",
      "}\n"
     ]
    }
   ],
   "source": [
    "const conversationalStream = await graph.stream(\n",
    "  {\n",
    "    messages: [\n",
    "      {\n",
    "        role: \"user\",\n",
    "        content: \"How are you? I'm Cobb.\",\n",
    "      },\n",
    "    ],\n",
    "  },\n",
    "  {\n",
    "    configurable: {\n",
    "      thread_id: \"conversational_testing_id\",\n",
    "    },\n",
    "  }\n",
    ");\n",
    "\n",
    "for await (const value of conversationalStream) {\n",
    "  console.log(value);\n",
    "}\n"
   ]
  }
 ],
 "metadata": {
  "kernelspec": {
   "display_name": "Deno",
   "language": "typescript",
   "name": "deno"
  },
  "language_info": {
   "codemirror_mode": "typescript",
   "file_extension": ".ts",
   "mimetype": "text/x.typescript",
   "name": "typescript",
   "nbconvert_exporter": "script",
   "pygments_lexer": "typescript",
   "version": "5.8.3"
  }
 },
 "nbformat": 4,
 "nbformat_minor": 5
}
