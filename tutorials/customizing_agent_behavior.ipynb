{
 "cells": [
  {
   "cell_type": "code",
   "execution_count": null,
   "id": "37616718",
   "metadata": {},
   "outputs": [],
   "source": [
    "import { config } from \"dotenv\";\n",
    "import { ChatBedrockConverse } from \"@langchain/aws\";\n",
    "import { TavilySearchResults } from \"@langchain/community/tools/tavily_search\";\n",
    "import { StateGraph, MessagesAnnotation } from \"@langchain/langgraph\";\n",
    "import { HumanMessage, AIMessage } from \"@langchain/core/messages\";\n",
    "import { ToolNode } from \"@langchain/langgraph/prebuilt\";\n",
    "import { tool } from \"@langchain/core/tools\";\n"
   ]
  },
  {
   "cell_type": "code",
   "execution_count": 17,
   "id": "2c8cf1f2",
   "metadata": {},
   "outputs": [
    {
     "name": "stdout",
     "output_type": "stream",
     "text": [
      "[dotenv@17.2.1] injecting env (0) from .env -- tip: ⚙️  load multiple .env files with { path: ['.env.local', '.env'] }\n"
     ]
    }
   ],
   "source": [
    "const env = config();"
   ]
  },
  {
   "cell_type": "code",
   "execution_count": 18,
   "id": "6f84e1e5",
   "metadata": {},
   "outputs": [],
   "source": [
    "const timeTool = tool(async () => new Date().toISOString(), {\n",
    "  name: \"getCurentTime\",\n",
    "  description: \"Returns the current date/time in ISO format\",\n",
    "});\n"
   ]
  },
  {
   "cell_type": "code",
   "execution_count": 19,
   "id": "084827ae",
   "metadata": {},
   "outputs": [],
   "source": [
    "const tools = [new TavilySearchResults({ maxResults: 3 }), timeTool];\n",
    "const toolNode = new ToolNode(tools);"
   ]
  },
  {
   "cell_type": "code",
   "execution_count": null,
   "id": "ac96223f",
   "metadata": {},
   "outputs": [],
   "source": [
    "const model = new ChatBedrockConverse({\n",
    "  model: \"us.amazon.nova-micro-v1:0\",\n",
    "  region: Deno.env.BEDROCK_AWS_REGION ?? \"us-east-1\",\n",
    "  credentials: {\n",
    "    secretAccessKey: Deno.env.BEDROCK_AWS_SECRET_ACCESS_KEY ?? \"\",\n",
    "    accessKeyId: Deno.env.BEDROCK_AWS_ACCESS_KEY_ID ?? \"\",\n",
    "  },\n",
    "  temperature: 0,\n",
    "}).bindTools(tools);\n"
   ]
  },
  {
   "cell_type": "code",
   "execution_count": 21,
   "id": "6e416c3f",
   "metadata": {},
   "outputs": [],
   "source": [
    "// Define the function that determine whether to continue or not\n",
    "function shouldContinue({ messages }: typeof MessagesAnnotation.State) {\n",
    "  const lastMessage = messages[messages.length - 1] as AIMessage;\n",
    "\n",
    "  // If the LLM makes a tool call, then we route to the \"tools\" node\n",
    "  if (lastMessage.tool_calls?.length) {\n",
    "    return \"tools\";\n",
    "  }\n",
    "  // Otherwise, we stop (reply to the user) using the special \"__end__\" node\n",
    "  return \"__end__\";\n",
    "}\n",
    "\n",
    "// Define the function that calls the model\n",
    "async function callModel(state: typeof MessagesAnnotation.State) {\n",
    "  const response = await model.invoke(state.messages);\n",
    "\n",
    "  // We return a list, because this will get added to the existing list\n",
    "  return { messages: [response] };\n",
    "}\n",
    "\n",
    "// Define a new graph\n",
    "const workflow = new StateGraph(MessagesAnnotation)\n",
    "  .addNode(\"agent\", callModel)\n",
    "  .addEdge(\"__start__\", \"agent\") // __start__ is a special name for the entrypoint\n",
    "  .addNode(\"tools\", toolNode)\n",
    "  .addEdge(\"tools\", \"agent\")\n",
    "  .addConditionalEdges(\"agent\", shouldContinue);\n"
   ]
  },
  {
   "cell_type": "code",
   "execution_count": 22,
   "id": "f50593d8",
   "metadata": {},
   "outputs": [],
   "source": [
    "const app = workflow.compile();"
   ]
  },
  {
   "cell_type": "code",
   "execution_count": 23,
   "id": "a36f9652",
   "metadata": {},
   "outputs": [],
   "source": [
    "const finalState = await app.invoke({\n",
    "  messages: [new HumanMessage(\"what is the weather in sf\")]\n",
    "});"
   ]
  },
  {
   "cell_type": "code",
   "execution_count": 24,
   "id": "91c38b11",
   "metadata": {},
   "outputs": [
    {
     "name": "stdout",
     "output_type": "stream",
     "text": [
      "Based on the results I found, here is the current weather information for San Francisco:\n",
      "\n",
      "- **Current Conditions:**\n",
      "  - **Location:** San Francisco, California, United States of America\n",
      "  - **Time:** 04:52 AM on July 26, 2025 (local time)\n",
      "  - **Temperature:** 14.4°C (57.9°F)\n",
      "  - **Weather:** Overcast\n",
      "  - **Wind:** 9.4 mph (15.1 kph) from the WSW direction\n",
      "  - **Humidity:** 87%\n",
      "  - **Cloud Cover:** 100%\n",
      "  - **Pressure:** 1016.0 mb\n",
      "\n",
      "Please note that this information might be slightly outdated as it was found from the search results related to the weather in San Francisco. For the most current and precise weather updates, I recommend checking a reliable weather website or app directly.\n"
     ]
    }
   ],
   "source": [
    "console.log(finalState.messages[finalState.messages.length - 1].content);"
   ]
  },
  {
   "cell_type": "code",
   "execution_count": 25,
   "id": "f18b913a",
   "metadata": {},
   "outputs": [],
   "source": [
    "const nextState = await app.invoke({\n",
    "  messages: [...finalState.messages, new HumanMessage(\"what about ny\")]\n",
    "})"
   ]
  },
  {
   "cell_type": "code",
   "execution_count": 27,
   "id": "a88f0234",
   "metadata": {},
   "outputs": [
    {
     "name": "stdout",
     "output_type": "stream",
     "text": [
      "Based on the results I found, here is the current weather information for New York City:\n",
      "\n",
      "- **Current Conditions:**\n",
      "  - **Location:** New York City, New York, United States of America\n",
      "  - **Time:** 07:52 AM on July 26, 2025 (local time)\n",
      "  - **Temperature:** 25.3°C (77.5°F)\n",
      "  - **Weather:** Sunny\n",
      "  - **Wind:** 10.7 mph (17.3 kph) from the NE direction\n",
      "  - **Humidity:** 58%\n",
      "  - **Cloud Cover:** 0%\n",
      "  - **Pressure:** 1020.0 mb\n",
      "  - **UV Index:** 0.3 (Very Low)\n",
      "\n",
      "Please note that the information is based on the search results related to the weather in New York City and may be slightly outdated. For the most current and precise weather updates, it is recommended to check a reliable weather website or app directly.\n"
     ]
    }
   ],
   "source": [
    "console.log(nextState.messages[nextState.messages.length - 1].content);\n"
   ]
  },
  {
   "cell_type": "code",
   "execution_count": 29,
   "id": "ab2f63b5",
   "metadata": {},
   "outputs": [
    {
     "data": {
      "image/jpeg": "[encoded data removed]"
     },
     "execution_count": 29,
     "metadata": {},
     "output_type": "execute_result"
    }
   ],
   "source": [
    "const graph = app.getGraph();\n",
    "const image = await graph.drawMermaidPng();\n",
    "const arrayBuffer = await image.arrayBuffer();\n",
    "\n",
    "Deno.jupyter.image(new Uint8Array(arrayBuffer));"
   ]
  }
 ],
 "metadata": {
  "kernelspec": {
   "display_name": "Deno",
   "language": "typescript",
   "name": "deno"
  },
  "language_info": {
   "codemirror_mode": "typescript",
   "file_extension": ".ts",
   "mimetype": "text/x.typescript",
   "name": "typescript",
   "nbconvert_exporter": "script",
   "pygments_lexer": "typescript",
   "version": "5.8.3"
  }
 },
 "nbformat": 4,
 "nbformat_minor": 5
}
