{
 "cells": [
  {
   "cell_type": "code",
   "execution_count": null,
   "id": "e416b968",
   "metadata": {},
   "outputs": [],
   "source": [
    "import { config } from \"dotenv\";\n",
    "import { ChatBedrockConverse } from \"@langchain/aws\";\n",
    "import { TavilySearchResults } from \"@langchain/community/tools/tavily_search\";\n",
    "import { MemorySaver } from \"@langchain/langgraph\";\n",
    "import { HumanMessage } from \"@langchain/core/messages\";\n",
    "import { createReactAgent } from \"@langchain/langgraph/prebuilt\";\n",
    "import { tool } from \"@langchain/core/tools\";\n"
   ]
  },
  {
   "cell_type": "code",
   "execution_count": 2,
   "id": "2da63339",
   "metadata": {},
   "outputs": [
    {
     "name": "stdout",
     "output_type": "stream",
     "text": [
      "[dotenv@17.2.1] injecting env (3) from .env -- tip: 🔐 prevent committing .env to code: https://dotenvx.com/precommit\n"
     ]
    }
   ],
   "source": [
    "const env = config();"
   ]
  },
  {
   "cell_type": "code",
   "execution_count": 16,
   "id": "ee39006c",
   "metadata": {},
   "outputs": [],
   "source": [
    "const timeTool = tool(async () => new Date().toISOString(), {\n",
    "  name: \"getCurentTime\",\n",
    "  description: \"Returns the current date/time in ISO format\",\n",
    "});\n"
   ]
  },
  {
   "cell_type": "code",
   "execution_count": 17,
   "id": "abcecd81",
   "metadata": {},
   "outputs": [],
   "source": [
    "// Define the tools for the agent to use\n",
    "const agentTools = [new TavilySearchResults({ maxResults: 3 }), timeTool];\n",
    "const agentModel = new ChatBedrockConverse({\n",
    "  model: \"us.amazon.nova-micro-v1:0\",\n",
    "  region: Deno.env.BEDROCK_AWS_REGION ?? \"us-east-1\",\n",
    "  credentials: {\n",
    "    secretAccessKey: Deno.env.BEDROCK_AWS_SECRET_ACCESS_KEY ?? \"\",\n",
    "    accessKeyId: Deno.env.BEDROCK_AWS_ACCESS_KEY_ID ?? \"\",\n",
    "  },\n",
    "  temperature: 0,\n",
    "});\n"
   ]
  },
  {
   "cell_type": "code",
   "execution_count": 18,
   "id": "a892187f",
   "metadata": {},
   "outputs": [],
   "source": [
    "// Initialize memory to persist state between graph runs\n",
    "const agentCheckpointer = new MemorySaver();\n",
    "const agent = createReactAgent({\n",
    "  llm: agentModel,\n",
    "  tools: agentTools,\n",
    "  checkpointSaver: agentCheckpointer,\n",
    "})"
   ]
  },
  {
   "cell_type": "code",
   "execution_count": 19,
   "id": "37471755",
   "metadata": {},
   "outputs": [],
   "source": [
    "// Now it's time to use!\n",
    "const agentFinalState = await agent.invoke(\n",
    "  { messages: [new HumanMessage(\"what is the current weather in sf\")] },\n",
    "  { configurable: { thread_id: \"42\" } }\n",
    ");\n"
   ]
  },
  {
   "cell_type": "code",
   "execution_count": 20,
   "id": "e5f83646",
   "metadata": {},
   "outputs": [
    {
     "name": "stdout",
     "output_type": "stream",
     "text": [
      "Here is the current weather information for San Francisco based on the search results:\n",
      "\n",
      "- **Temperature**: 15.6°C (60.1°F)\n",
      "- **Weather Condition**: Overcast\n",
      "- **Wind**: 13.2 mph (21.2 kph) from the West\n",
      "- **Pressure**: 1016 mb (30.0 inHg)\n",
      "- **Humidity**: 83%\n",
      "- **Feels Like**: 15.6°C (60.1°F)\n",
      "\n",
      "The data was extracted from a result that indicates these conditions as of July 25, 2025 at 20:54 local time.\n",
      "\n",
      "For the most accurate and current weather information, it is always best to check a reliable weather service directly.\n"
     ]
    }
   ],
   "source": [
    "console.log(\n",
    "  agentFinalState.messages[agentFinalState.messages.length - 1].content\n",
    ");"
   ]
  },
  {
   "cell_type": "code",
   "execution_count": 21,
   "id": "6cf64403",
   "metadata": {},
   "outputs": [],
   "source": [
    "const agentNextState = await agent.invoke(\n",
    "  { messages: [new HumanMessage(\"what about ny\")] },\n",
    "  { configurable: { thread_id: \"42\" } }\n",
    ");\n"
   ]
  },
  {
   "cell_type": "code",
   "execution_count": 22,
   "id": "b2a308a9",
   "metadata": {},
   "outputs": [
    {
     "name": "stdout",
     "output_type": "stream",
     "text": [
      "Here is the current weather information for New York City based on the search results:\n",
      "\n",
      "- **Temperature**: 28.3°C (82.9°F)\n",
      "- **Weather Condition**: Clear\n",
      "- **Wind**: 5.6 mph (9.0 kph) from the North-Northwest\n",
      "- **Pressure**: 1016 mb (29.99 inHg)\n",
      "- **Humidity**: 68%\n",
      "- **Feels Like**: 35.6°C (96.1°F)\n",
      "\n",
      "This data was extracted from a result that indicates these conditions as of July 26, 2025 at 00:03 local time.\n",
      "\n",
      "For the most accurate and current weather information, it is always best to check a reliable weather service directly.\n"
     ]
    }
   ],
   "source": [
    "console.log(\n",
    "  agentNextState.messages[agentNextState.messages.length - 1].content\n",
    ");\n"
   ]
  },
  {
   "cell_type": "code",
   "execution_count": null,
   "id": "4f1d4fce",
   "metadata": {},
   "outputs": [
    {
     "data": {
      "image/jpeg": "[encoded data removed]"
     },
     "execution_count": 26,
     "metadata": {},
     "output_type": "execute_result"
    }
   ],
   "source": [
    "const graph = agent.getGraph();\n",
    "const image = await graph.drawMermaidPng();\n",
    "const arrayBuffer = await image.arrayBuffer();\n",
    "\n",
    "Deno.jupyter.image(new Uint8Array(arrayBuffer));"
   ]
  },
  {
   "cell_type": "code",
   "execution_count": null,
   "id": "1efa26f2",
   "metadata": {},
   "outputs": [],
   "source": [
    "// Alternatively, you can save the graph as a PNG file locally\n",
    "import { writeFileSync } from \"node:fs\";\n",
    "\n",
    "writeFileSync(\"./graphState.png\", new Uint8Array(arrayBuffer));\n"
   ]
  }
 ],
 "metadata": {
  "kernelspec": {
   "display_name": "Deno",
   "language": "typescript",
   "name": "deno"
  },
  "language_info": {
   "codemirror_mode": "typescript",
   "file_extension": ".ts",
   "mimetype": "text/x.typescript",
   "name": "typescript",
   "nbconvert_exporter": "script",
   "pygments_lexer": "typescript",
   "version": "5.8.3"
  }
 },
 "nbformat": 4,
 "nbformat_minor": 5
}
